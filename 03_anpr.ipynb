{
 "cells": [
  {
   "cell_type": "code",
   "execution_count": 1,
   "id": "94c2be01",
   "metadata": {},
   "outputs": [
    {
     "name": "stderr",
     "output_type": "stream",
     "text": [
      "/Users/samettenha/miniforge3/lib/python3.9/site-packages/torchvision/io/image.py:11: UserWarning: Failed to load image Python extension: dlopen(/Users/samettenha/miniforge3/lib/python3.9/site-packages/torchvision/image.so, 0x0006): Library not loaded: @rpath/libpng16.16.dylib\n",
      "  Referenced from: /Users/samettenha/miniforge3/lib/python3.9/site-packages/torchvision/image.so\n",
      "  Reason: tried: '/Users/malfet/miniforge3/envs/py_39_torch-1.10.2/lib/libpng16.16.dylib' (no such file), '/Users/malfet/miniforge3/envs/py_39_torch-1.10.2/lib/libpng16.16.dylib' (no such file), '/Users/malfet/miniforge3/envs/py_39_torch-1.10.2/lib/libpng16.16.dylib' (no such file), '/Users/malfet/miniforge3/envs/py_39_torch-1.10.2/lib/libpng16.16.dylib' (no such file), '/Users/samettenha/miniforge3/lib/python3.9/lib-dynload/../../libpng16.16.dylib' (no such file), '/Users/samettenha/miniforge3/bin/../lib/libpng16.16.dylib' (no such file), '/usr/local/lib/libpng16.16.dylib' (no such file), '/usr/lib/libpng16.16.dylib' (no such file)\n",
      "  warn(f\"Failed to load image Python extension: {e}\")\n"
     ]
    }
   ],
   "source": [
    "import cv2\n",
    "from matplotlib import pyplot as plt\n",
    "import imutils\n",
    "import numpy as np\n",
    "import easyocr\n",
    "import pandas as pd\n",
    "from datetime import datetime\n",
    "import warnings\n",
    "warnings.filterwarnings(\"ignore\")"
   ]
  },
  {
   "cell_type": "code",
   "execution_count": 4,
   "id": "cfcfd885",
   "metadata": {},
   "outputs": [],
   "source": [
    "# add check_out Time\n",
    "def anpr_v4():\n",
    "    check_in = input('\\n\\nPlease press A to open the gate and record your Plate Info:').lower()\n",
    "    #\n",
    "    # check_in \n",
    "    if check_in == 'a':\n",
    "        #\n",
    "        # record time say welcome\n",
    "        time_in = datetime.now()#.strftime(\"%Y-%m-%d %H:%M:%S\")\n",
    "        print('Welcome you check in at:', time_in.strftime(\"%Y-%m-%d %H:%M:%S\"))\n",
    "        \n",
    "        #\n",
    "        # take a picture an record to localize the coordinates of the plate\n",
    "        gray = cv2.cvtColor(cv2.imread('01_picture/image_02.jpeg'), cv2.COLOR_BGR2GRAY)\n",
    "        blur = cv2.GaussianBlur(gray,(5,5),0) \n",
    "        canny = cv2.Canny(blur, threshold1=30,threshold2=200)\n",
    "        \n",
    "        keypoints = cv2.findContours(canny.copy(), cv2.RETR_TREE, cv2.CHAIN_APPROX_SIMPLE) \n",
    "        contours = sorted(imutils.grab_contours(keypoints), key=cv2.contourArea, reverse=True)[:10]\n",
    "        \n",
    "        location = []\n",
    "        for contour in contours:\n",
    "            approx = cv2.approxPolyDP(contour, 10, True) # approxPolyDP(input_curve, epsilon, closed) -> https://www.programcreek.com/python/example/89328/cv2.approxPolyDP\n",
    "            if len(approx) == 4:\n",
    "                location = approx\n",
    "                break\n",
    "                \n",
    "        mask = np.zeros(gray.shape, dtype=np.uint8)\n",
    "\n",
    "        cv2.drawContours(mask, [location], 0,255, -1)\n",
    "\n",
    "        (x,y) = np.where(mask==255)\n",
    "        (x1, y1) = (np.min(x), np.min(y))\n",
    "        (x2, y2) = (np.max(x), np.max(y))\n",
    "        cropped_image = gray[x1:x2, y1:y2]\n",
    "        \n",
    "        # read out the plate info\n",
    "        result = easyocr.Reader(['en']).readtext(cropped_image)\n",
    "        \n",
    "        text_sum=[]\n",
    "        for x in range(len(result)):\n",
    "            text_sum.append(result[x][-2])    \n",
    "        plate = ' '.join(text_sum)\n",
    "        \n",
    "        print('We record your Plate as:', plate)\n",
    "        \n",
    "        #\n",
    "        # Check out\n",
    "        check_out = input('\\n\\nPlease type in your plate number to get ticket bill:').lower()\n",
    "        \n",
    "        if check_out == plate.lower():\n",
    "            time_out = datetime.now()\n",
    "            print('You check out at:', time_out.strftime(\"%Y-%m-%d %H:%M:%S\"))\n",
    "            visit_time = int((time_out - time_in).total_seconds())\n",
    "            payment = visit_time * 0.09\n",
    "            print('Your bill amounts to',round(payment,2),'€')\n",
    "        else:\n",
    "            print('bye bye')\n",
    "        \n",
    "        \n",
    "    else:\n",
    "        print('bye bye')"
   ]
  },
  {
   "cell_type": "code",
   "execution_count": 6,
   "id": "e203d712",
   "metadata": {},
   "outputs": [
    {
     "name": "stdout",
     "output_type": "stream",
     "text": [
      "\n",
      "\n",
      "Please press A to open the gate and record your Plate Info:a\n"
     ]
    },
    {
     "name": "stderr",
     "output_type": "stream",
     "text": [
      "CUDA not available - defaulting to CPU. Note: This module is much faster with a GPU.\n"
     ]
    },
    {
     "name": "stdout",
     "output_type": "stream",
     "text": [
      "Welcome you check in at: 2022-03-11 12:40:42\n",
      "We record your Plate as: ED HV 919\n",
      "\n",
      "\n",
      "Please type in your plate number to get ticket bill:ed hv 919\n",
      "You check out at: 2022-03-11 12:40:54\n",
      "Your bill amounts to 1.08 €\n"
     ]
    }
   ],
   "source": [
    "anpr_v4()"
   ]
  },
  {
   "cell_type": "code",
   "execution_count": null,
   "id": "bb219458",
   "metadata": {},
   "outputs": [],
   "source": []
  }
 ],
 "metadata": {
  "kernelspec": {
   "display_name": "Python 3 (ipykernel)",
   "language": "python",
   "name": "python3"
  },
  "language_info": {
   "codemirror_mode": {
    "name": "ipython",
    "version": 3
   },
   "file_extension": ".py",
   "mimetype": "text/x-python",
   "name": "python",
   "nbconvert_exporter": "python",
   "pygments_lexer": "ipython3",
   "version": "3.9.10"
  }
 },
 "nbformat": 4,
 "nbformat_minor": 5
}
